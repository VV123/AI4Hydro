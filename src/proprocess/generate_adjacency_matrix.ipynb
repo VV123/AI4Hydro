{
  "nbformat": 4,
  "nbformat_minor": 0,
  "metadata": {
    "colab": {
      "provenance": []
    },
    "kernelspec": {
      "name": "python3",
      "display_name": "Python 3"
    },
    "language_info": {
      "name": "python"
    }
  },
  "cells": [
    {
      "cell_type": "code",
      "execution_count": null,
      "metadata": {
        "id": "T3Epn-U-XCYI"
      },
      "outputs": [],
      "source": [
        "from google.colab import drive"
      ]
    },
    {
      "cell_type": "code",
      "source": [
        "drive.mount('/content/drive')"
      ],
      "metadata": {
        "id": "sW-RGisaXDjj"
      },
      "execution_count": null,
      "outputs": []
    },
    {
      "cell_type": "code",
      "source": [
        "cd /content/drive/MyDrive/"
      ],
      "metadata": {
        "id": "bg8Fp3rUXKQL"
      },
      "execution_count": null,
      "outputs": []
    },
    {
      "cell_type": "code",
      "source": [
        "import csv\n",
        "\n",
        "with open('/content/drive/MyDrive/GNN_site1_Manholes.csv', newline='') as csvfile:\n",
        "    csvreader = csv.reader(csvfile, delimiter=',')\n",
        "    header = next(csvreader)\n",
        "    column_index = 1 #The index of the column which needs to be extracted\n",
        "    column_data = [int(row[column_index]) for row in csvreader]\n",
        "\n",
        "print(column_data)"
      ],
      "metadata": {
        "id": "mlQ-IhRmXQSW"
      },
      "execution_count": null,
      "outputs": []
    },
    {
      "cell_type": "code",
      "source": [
        "paid_edges =[]\n",
        "\n",
        "with open('/content/drive/MyDrive/Ai/GNN_site1_Pipes.csv', newline='') as csvfile:\n",
        "    csvreader = csv.reader(csvfile)\n",
        "    header = next(csvreader)  # Skipping the Header\n",
        "\n",
        "    # Reading the stored data from columns 3 and 5\n",
        "    for row in csvreader:\n",
        "      data_from_col_2 = int(row[2])\n",
        "      if(row[4] == 'OF-2'):\n",
        "        data_from_col_4 = int(0)\n",
        "      else:\n",
        "        data_from_col_4 = int(row[4])\n",
        "      pair = (data_from_col_2, data_from_col_4)\n",
        "      paid_edges.append(pair)\n",
        "\n",
        "print(paid_edges)"
      ],
      "metadata": {
        "id": "Y4TumUEkXldU"
      },
      "execution_count": null,
      "outputs": []
    },
    {
      "cell_type": "code",
      "source": [
        "import numpy as np\n",
        "\n",
        "class Vertex:\n",
        "\tdef __init__(self, n):\n",
        "\t\tself.name = n\n",
        "\n",
        "class Graph:\n",
        "\tvertices = {}\n",
        "\tedges = []\n",
        "\tedge_indices = {}\n",
        "\tcol_csv = [' ']\n",
        "\trow_csv = []\n",
        "\tfinal_csv = []\n",
        "\n",
        "\n",
        "\tdef add_vertex(self, vertex):\n",
        "\n",
        "\n",
        "\t\tif isinstance(vertex, (Vertex, int)) and vertex not in self.vertices:\n",
        "\t\t\tif isinstance(vertex, int):\n",
        "\t\t\t\tvertex = Vertex(vertex)\n",
        "\t\t\tself.vertices[vertex.name] = vertex\n",
        "\t\t\tfor row in self.edges:\n",
        "\t\t\t\trow.append(0)\n",
        "\t\t\tself.edges.append([0] * (len(self.edges)+1))\n",
        "\n",
        "\t\t\tself.edge_indices[vertex.name] = len(self.edge_indices)\n",
        "\t\t\treturn True\n",
        "\t\telse:\n",
        "\t\t\treturn False\n",
        "\n",
        "\tdef add_edge(self, u, v, weight=1):\n",
        "\t\tif u in self.vertices and v in self.vertices:\n",
        "\t\t\tself.edges[self.edge_indices[u]][self.edge_indices[v]] = weight\n",
        "\t\t\tself.edges[self.edge_indices[v]][self.edge_indices[u]] = weight\n",
        "\t\t\treturn True\n",
        "\t\telse:\n",
        "\t\t\treturn False\n",
        "\n",
        "\tdef print_graph(self):\n",
        "\t\tprint('     '*10)\n",
        "\t\tfor k in self.vertices:\n",
        "\t\t\tprint(' ',k,end=' ' )\n",
        "\t\t\tself.col_csv.append(str(k))\n",
        "\t\tprint(\"\\n\")\n",
        "\n",
        "\t\tfor v, i in sorted(self.edge_indices.items()):\n",
        "\t\t\tprint(v , end='')\n",
        "\t\t\tself.row_csv.append(str(v))\n",
        "\t\t\tfor j in range(len(self.edges)):\n",
        "\t\t\t\tprint(' '*8,self.edges[i][j], end=' ')\n",
        "\t\t\t\tself.row_csv.append(str(self.edges[i][j]))\n",
        "\t\t\tk = i +1\n",
        "\t\t\tprint(' ')\n",
        "\t\t\tself.final_csv.insert(k, self.row_csv)\n",
        "\t\t\tself.row_csv = []\n",
        "\n",
        "\t\tself.final_csv.insert(0,self.col_csv)\n",
        "\t\tnp.savetxt(\"AdjMatrix_pipemanholes.csv\", self.final_csv ,delimiter = \", \", fmt ='%s')\n",
        "\n"
      ],
      "metadata": {
        "id": "wyGixdJ6X67f"
      },
      "execution_count": null,
      "outputs": []
    },
    {
      "cell_type": "code",
      "source": [
        "g = Graph()\n",
        "\n",
        "for i in column_data:\n",
        "    g.add_vertex((i))\n",
        "\n",
        "\n",
        "for pair in paid_edges:\n",
        "\tg.add_edge(pair[0],pair[1])\n",
        "\n",
        "g.print_graph()\n",
        "\n",
        "#The above code creates a .csv file which consisits of the below matrix in a formatted manner."
      ],
      "metadata": {
        "colab": {
          "base_uri": "https://localhost:8080/"
        },
        "id": "DyrhHoNKZjmM",
        "outputId": "c1644754-8ab0-4972-d900-cdab50c3536a"
      },
      "execution_count": null,
      "outputs": [
        {
          "output_type": "stream",
          "name": "stdout",
          "text": [
            "          \n",
            " 100120310  100120350  100120410  100120770  101053550  101053560  101054040  101054250  101054340  101090170  101090250  101090450  101090530  101090540  101090800  101090920  101091140  101091210  101091560  101092200  101092380  101092540  101092940  101092970  101093090  101093600  101093720  101093850  101093860  101093880  101093970  101094260  101094330  101094390  101094440  101094450  101094460  101094630  101094790  101094890  101094910  101094990  101095510  101095690 \n",
            "\n",
            "100120310         0          1          1          0          0          0          0          0          0          0          0          0          0          0          0          0          0          0          0          0          0          0          0          0          0          0          0          0          0          0          0          0          0          0          0          0          0          0          0          0          0          0          0          0  \n",
            "100120350         1          0          0          1          0          0          0          0          0          0          0          0          0          0          0          0          0          0          0          0          0          0          0          0          0          0          0          0          0          0          0          0          0          0          0          0          0          0          0          0          0          0          0          0  \n",
            "100120410         1          0          0          0          0          0          0          0          0          0          0          0          0          0          0          0          0          0          0          0          0          0          0          0          0          0          0          0          0          1          0          0          0          0          0          0          0          0          0          0          0          0          0          0  \n",
            "100120770         0          1          0          0          0          0          0          0          0          0          0          0          0          0          0          0          0          0          0          0          0          0          0          0          0          0          0          0          0          0          0          0          0          0          0          0          0          0          0          0          0          0          0          0  \n",
            "101053550         0          0          0          0          0          0          0          1          0          0          0          0          0          0          0          0          0          0          0          0          0          0          0          0          0          0          0          0          0          0          0          0          0          0          0          0          0          0          0          0          0          0          0          0  \n",
            "101053560         0          0          0          0          0          0          0          0          0          0          0          0          0          0          0          0          0          0          0          0          0          0          0          0          0          0          0          0          0          0          0          0          0          0          0          0          0          0          0          0          0          0          0          0  \n",
            "101054040         0          0          0          0          0          0          0          0          1          0          0          0          0          0          0          0          0          0          0          0          0          0          0          0          0          0          0          0          0          0          0          0          0          0          0          0          0          0          0          0          0          0          0          0  \n",
            "101054250         0          0          0          0          1          0          0          0          0          0          1          0          0          0          0          0          0          0          0          0          0          0          0          0          0          0          0          0          0          0          0          0          0          0          0          0          0          0          0          0          0          0          0          0  \n",
            "101054340         0          0          0          0          0          0          1          0          0          1          0          1          0          0          0          0          0          0          0          0          0          0          0          0          0          0          0          0          0          0          0          0          0          0          0          0          0          0          0          0          0          0          0          0  \n",
            "101090170         0          0          0          0          0          0          0          0          1          0          0          0          0          0          0          0          0          0          0          0          0          0          0          0          0          0          0          0          0          0          0          0          0          0          0          0          0          0          0          0          0          0          0          0  \n",
            "101090250         0          0          0          0          0          0          0          1          0          0          0          0          0          0          1          0          0          0          0          0          0          0          0          0          0          0          0          0          0          0          0          0          0          0          0          0          0          0          0          0          0          0          0          0  \n",
            "101090450         0          0          0          0          0          0          0          0          1          0          0          0          1          0          0          0          1          0          0          0          0          0          0          0          0          0          0          0          0          0          0          0          0          0          0          0          0          0          0          0          0          0          0          0  \n",
            "101090530         0          0          0          0          0          0          0          0          0          0          0          1          0          0          0          0          0          0          0          0          0          0          0          0          0          0          0          0          0          0          0          0          0          0          0          0          0          0          0          0          0          0          0          0  \n",
            "101090540         0          0          0          0          0          0          0          0          0          0          0          0          0          0          0          0          0          0          0          0          0          0          0          0          0          0          0          0          0          0          0          0          0          0          0          0          0          0          0          0          0          0          0          0  \n",
            "101090800         0          0          0          0          0          0          0          0          0          0          1          0          0          0          0          0          0          0          1          0          0          0          0          0          0          0          0          0          0          0          0          0          0          0          0          0          0          0          0          0          0          0          0          0  \n",
            "101090920         0          0          0          0          0          0          0          0          0          0          0          0          0          0          0          0          1          0          0          0          0          0          0          0          0          0          0          0          0          0          0          0          0          0          0          0          0          0          0          0          0          0          0          0  \n",
            "101091140         0          0          0          0          0          0          0          0          0          0          0          1          0          0          0          1          0          0          1          0          0          0          0          0          0          0          0          0          0          0          0          0          0          0          0          0          0          0          0          0          0          0          0          0  \n",
            "101091210         0          0          0          0          0          0          0          0          0          0          0          0          0          0          0          0          0          0          0          0          1          0          0          0          0          0          0          0          0          0          0          0          0          0          0          0          0          0          0          0          0          0          0          0  \n",
            "101091560         0          0          0          0          0          0          0          0          0          0          0          0          0          0          1          0          1          0          0          1          0          0          0          0          0          0          0          0          0          0          0          0          0          0          0          0          0          0          0          0          0          0          0          0  \n",
            "101092200         0          0          0          0          0          0          0          0          0          0          0          0          0          0          0          0          0          0          1          0          0          0          1          0          0          0          0          0          0          0          0          0          0          0          0          0          0          0          0          0          0          0          0          0  \n",
            "101092380         0          0          0          0          0          0          0          0          0          0          0          0          0          0          0          0          0          1          0          0          0          0          0          0          0          0          1          0          0          0          0          0          0          0          0          0          0          0          0          0          0          0          0          0  \n",
            "101092540         0          0          0          0          0          0          0          0          0          0          0          0          0          0          0          0          0          0          0          0          0          0          0          1          0          0          0          0          0          0          0          0          0          0          0          0          0          0          0          0          0          0          0          0  \n",
            "101092940         0          0          0          0          0          0          0          0          0          0          0          0          0          0          0          0          0          0          0          1          0          0          0          0          0          0          0          0          0          1          0          0          0          0          0          0          0          0          0          0          0          0          0          0  \n",
            "101092970         0          0          0          0          0          0          0          0          0          0          0          0          0          0          0          0          0          0          0          0          0          1          0          0          0          1          0          0          0          0          0          0          0          0          0          0          0          0          0          0          0          0          0          0  \n",
            "101093090         0          0          0          0          0          0          0          0          0          0          0          0          0          0          0          0          0          0          0          0          0          0          0          0          0          0          0          0          0          0          1          0          0          0          0          0          0          0          0          0          0          0          0          0  \n",
            "101093600         0          0          0          0          0          0          0          0          0          0          0          0          0          0          0          0          0          0          0          0          0          0          0          1          0          0          0          0          0          0          0          0          1          0          0          0          0          0          0          0          0          0          0          0  \n",
            "101093720         0          0          0          0          0          0          0          0          0          0          0          0          0          0          0          0          0          0          0          0          1          0          0          0          0          0          0          0          1          0          0          0          0          0          0          0          0          0          0          0          0          0          0          0  \n",
            "101093850         0          0          0          0          0          0          0          0          0          0          0          0          0          0          0          0          0          0          0          0          0          0          0          0          0          0          0          0          1          0          1          0          0          0          0          0          0          0          0          0          0          0          0          0  \n",
            "101093860         0          0          0          0          0          0          0          0          0          0          0          0          0          0          0          0          0          0          0          0          0          0          0          0          0          0          1          1          0          0          0          0          0          0          0          0          0          0          0          0          0          0          0          0  \n",
            "101093880         0          0          1          0          0          0          0          0          0          0          0          0          0          0          0          0          0          0          0          0          0          0          1          0          0          0          0          0          0          0          0          1          0          0          0          0          0          0          0          0          0          0          0          0  \n",
            "101093970         0          0          0          0          0          0          0          0          0          0          0          0          0          0          0          0          0          0          0          0          0          0          0          0          1          0          0          1          0          0          0          0          1          0          0          0          0          0          0          0          0          0          0          0  \n",
            "101094260         0          0          0          0          0          0          0          0          0          0          0          0          0          0          0          0          0          0          0          0          0          0          0          0          0          0          0          0          0          1          0          0          0          0          0          0          0          0          0          0          1          0          0          0  \n",
            "101094330         0          0          0          0          0          0          0          0          0          0          0          0          0          0          0          0          0          0          0          0          0          0          0          0          0          1          0          0          0          0          1          0          0          0          0          0          1          0          0          0          0          0          0          0  \n",
            "101094390         0          0          0          0          0          0          0          0          0          0          0          0          0          0          0          0          0          0          0          0          0          0          0          0          0          0          0          0          0          0          0          0          0          0          0          0          0          0          0          0          0          1          0          0  \n",
            "101094440         0          0          0          0          0          0          0          0          0          0          0          0          0          0          0          0          0          0          0          0          0          0          0          0          0          0          0          0          0          0          0          0          0          0          0          1          0          1          0          0          0          0          0          0  \n",
            "101094450         0          0          0          0          0          0          0          0          0          0          0          0          0          0          0          0          0          0          0          0          0          0          0          0          0          0          0          0          0          0          0          0          0          0          1          0          1          0          0          0          1          0          0          0  \n",
            "101094460         0          0          0          0          0          0          0          0          0          0          0          0          0          0          0          0          0          0          0          0          0          0          0          0          0          0          0          0          0          0          0          0          1          0          0          1          0          0          0          0          0          0          0          0  \n",
            "101094630         0          0          0          0          0          0          0          0          0          0          0          0          0          0          0          0          0          0          0          0          0          0          0          0          0          0          0          0          0          0          0          0          0          0          1          0          0          0          1          0          0          0          1          0  \n",
            "101094790         0          0          0          0          0          0          0          0          0          0          0          0          0          0          0          0          0          0          0          0          0          0          0          0          0          0          0          0          0          0          0          0          0          0          0          0          0          1          0          1          0          0          0          0  \n",
            "101094890         0          0          0          0          0          0          0          0          0          0          0          0          0          0          0          0          0          0          0          0          0          0          0          0          0          0          0          0          0          0          0          0          0          0          0          0          0          0          1          0          0          1          0          0  \n",
            "101094910         0          0          0          0          0          0          0          0          0          0          0          0          0          0          0          0          0          0          0          0          0          0          0          0          0          0          0          0          0          0          0          1          0          0          0          1          0          0          0          0          0          0          0          0  \n",
            "101094990         0          0          0          0          0          0          0          0          0          0          0          0          0          0          0          0          0          0          0          0          0          0          0          0          0          0          0          0          0          0          0          0          0          1          0          0          0          0          0          1          0          0          0          1  \n",
            "101095510         0          0          0          0          0          0          0          0          0          0          0          0          0          0          0          0          0          0          0          0          0          0          0          0          0          0          0          0          0          0          0          0          0          0          0          0          0          1          0          0          0          0          0          0  \n",
            "101095690         0          0          0          0          0          0          0          0          0          0          0          0          0          0          0          0          0          0          0          0          0          0          0          0          0          0          0          0          0          0          0          0          0          0          0          0          0          0          0          0          0          1          0          0  \n"
          ]
        }
      ]
    }
  ]
}
